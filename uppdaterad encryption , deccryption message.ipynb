{
 "cells": [
  {
   "cell_type": "code",
   "execution_count": 53,
   "id": "c5fafe37",
   "metadata": {},
   "outputs": [],
   "source": [
    "import random"
   ]
  },
  {
   "cell_type": "code",
   "execution_count": 54,
   "id": "3d43311c",
   "metadata": {},
   "outputs": [],
   "source": [
    "encode_key =       {\"a\": 1, \"b\": 5, \"c\": 3, \"d\": 2,\n",
    "                      \"e\": 4, \"f\": 7,\"g\": 8, \"h\": 9,\n",
    "                      \"i\": 11, \"j\": 10,\"k\": 16, \"l\": 12,\n",
    "                      \"m\": 13, \"n\": 15, \"o\": 14, \"p\": 17,\n",
    "                      \"q\": 16, \"r\": 18, \"s\": 19, \"t\": 20,\n",
    "                      \"u\": 22,\"v\": 21,\"w\": 23,\"x\": 24,\n",
    "                      \"y\": 25, \"z\": 26, \" \": 27}"
   ]
  },
  {
   "cell_type": "code",
   "execution_count": 55,
   "id": "4ca926b1",
   "metadata": {},
   "outputs": [],
   "source": [
    "#i är varje boksdav i input-meddelandet vi skrivit ut tidigare\n",
    "def encrypt_message(message, key):\n",
    "    lst = []\n",
    "    for i in message:\n",
    "        lst.append(key[i])\n",
    "    \n",
    "    return lst"
   ]
  },
  {
   "cell_type": "code",
   "execution_count": 56,
   "id": "9fbb270b",
   "metadata": {},
   "outputs": [],
   "source": [
    "def decrypt_message(encoded_message, key):\n",
    "    \n",
    "    decode_key = {}\n",
    "\n",
    "    for i,j in key.items():\n",
    "        decode_key[j] = i\n",
    "    \n",
    "    lst = []\n",
    "    for i in encoded_message:\n",
    "        lst.append(decode_key[i])\n",
    "    \n",
    "    return ''.join(lst)"
   ]
  },
  {
   "cell_type": "code",
   "execution_count": 81,
   "id": "61dd1358",
   "metadata": {},
   "outputs": [],
   "source": [
    "def random_encode_key(a_dict):\n",
    "    \n",
    "    key = list(a_dict.values())\n",
    "    random.shuffle(key)\n",
    "\n",
    "    # reassigning to keys\n",
    "    res = dict(zip(a_dict, key))\n",
    "    return res"
   ]
  },
  {
   "cell_type": "code",
   "execution_count": 87,
   "id": "7b399b10",
   "metadata": {},
   "outputs": [
    {
     "name": "stdout",
     "output_type": "stream",
     "text": [
      "wright message hereok\n"
     ]
    }
   ],
   "source": [
    "message=input(\"wright message here\")"
   ]
  },
  {
   "cell_type": "code",
   "execution_count": 88,
   "id": "62a200a2",
   "metadata": {},
   "outputs": [],
   "source": [
    "randomized_encode_key = random_encode_key(encode_key)"
   ]
  },
  {
   "cell_type": "code",
   "execution_count": 89,
   "id": "54bb6ff1",
   "metadata": {},
   "outputs": [],
   "source": [
    "encrypted_message = encrypt_message(message, randomized_encode_key)"
   ]
  },
  {
   "cell_type": "code",
   "execution_count": 90,
   "id": "51ec91fe",
   "metadata": {},
   "outputs": [
    {
     "data": {
      "text/plain": [
       "[10, 9]"
      ]
     },
     "execution_count": 90,
     "metadata": {},
     "output_type": "execute_result"
    }
   ],
   "source": [
    "encrypted_message"
   ]
  },
  {
   "cell_type": "code",
   "execution_count": 91,
   "id": "c3414a04",
   "metadata": {},
   "outputs": [
    {
     "data": {
      "text/plain": [
       "'ok'"
      ]
     },
     "execution_count": 91,
     "metadata": {},
     "output_type": "execute_result"
    }
   ],
   "source": [
    "decrypt_message(encrypted_message, randomized_encode_key)"
   ]
  },
  {
   "cell_type": "code",
   "execution_count": null,
   "id": "45f85b9c",
   "metadata": {},
   "outputs": [],
   "source": []
  },
  {
   "cell_type": "code",
   "execution_count": null,
   "id": "fe849124",
   "metadata": {},
   "outputs": [],
   "source": []
  },
  {
   "cell_type": "code",
   "execution_count": null,
   "id": "82c43c5b",
   "metadata": {},
   "outputs": [],
   "source": []
  }
 ],
 "metadata": {
  "kernelspec": {
   "display_name": "Python 3",
   "language": "python",
   "name": "python3"
  },
  "language_info": {
   "codemirror_mode": {
    "name": "ipython",
    "version": 3
   },
   "file_extension": ".py",
   "mimetype": "text/x-python",
   "name": "python",
   "nbconvert_exporter": "python",
   "pygments_lexer": "ipython3",
   "version": "3.8.8"
  }
 },
 "nbformat": 4,
 "nbformat_minor": 5
}
